{
 "cells": [
  {
   "cell_type": "code",
   "execution_count": null,
   "metadata": {},
   "outputs": [
    {
     "name": "stdout",
     "output_type": "stream",
     "text": [
      "[2, 3, 4, 5]\n",
      "[['sunny', '?', '?', '?', '?', '?'], ['?', 'warm', '?', '?', '?', '?']] ['sunny' 'warm' '?' 'strong' '?' '?']\n"
     ]
    }
   ],
   "source": [
    "import pandas as pd\n",
    "import numpy as np\n",
    "dataset=pd.read_csv(\"data3.csv\")\n",
    "x=dataset.iloc[:,0:-1].values\n",
    "y=dataset.iloc[:,-1]\n",
    "s=x[0]\n",
    "g=[[\"?\"for i in range(len(s))]for i in range(len(s))]\n",
    "for i,h in enumerate(x):\n",
    "    if y[i]==\"yes\":\n",
    "        for j in range(len(s)):\n",
    "            if h[j]!=s[j]:\n",
    "                s[j]='?'\n",
    "                g[j][j]='?'\n",
    "    if y[i]==\"no\":\n",
    "        for j in range(len(s)):\n",
    "            if h[j]!=s[j]:\n",
    "                g[j][j]=s[j]\n",
    "            else:\n",
    "                g[j][j]='?'\n",
    "ind=[i for i,val in enumerate(g) if val==['?','?','?','?','?','?']]\n",
    "print(ind)\n",
    "for i in ind:\n",
    "    g.remove(['?','?','?','?','?','?'])\n",
    "print(g,s)    "
   ]
  }
 ],
 "metadata": {
  "kernelspec": {
   "display_name": "Python 3",
   "language": "python",
   "name": "python3"
  },
  "language_info": {
   "codemirror_mode": {
    "name": "ipython",
    "version": 3
   },
   "file_extension": ".py",
   "mimetype": "text/x-python",
   "name": "python",
   "nbconvert_exporter": "python",
   "pygments_lexer": "ipython3",
   "version": "3.7.1"
  }
 },
 "nbformat": 4,
 "nbformat_minor": 2
}
